{
  "cells": [
    {
      "cell_type": "markdown",
      "metadata": {
        "id": "view-in-github",
        "colab_type": "text"
      },
      "source": [
        "<a href=\"https://colab.research.google.com/github/PuppalaKarthik/karthik_INFO5731_Spring2023/blob/main/In_class_exercise/In_class_exercise_01_01242023_1.ipynb\" target=\"_parent\"><img src=\"https://colab.research.google.com/assets/colab-badge.svg\" alt=\"Open In Colab\"/></a>"
      ]
    },
    {
      "cell_type": "markdown",
      "metadata": {
        "id": "DymRJbxDBCnf"
      },
      "source": [
        "# **The first In-class-exercise (01/24/2023, 40 points in total)**"
      ]
    },
    {
      "cell_type": "markdown",
      "metadata": {
        "id": "03jb4GZsBkBS"
      },
      "source": [
        "(1) Write a Python program to calculate the length of a string. (4 points)"
      ]
    },
    {
      "cell_type": "code",
      "execution_count": 1,
      "metadata": {
        "colab": {
          "base_uri": "https://localhost:8080/"
        },
        "id": "YaGLbSHHB8Ej",
        "outputId": "0dd8b215-713a-4eea-84c4-6b9c28d9da98"
      },
      "outputs": [
        {
          "output_type": "execute_result",
          "data": {
            "text/plain": [
              "15"
            ]
          },
          "metadata": {},
          "execution_count": 1
        }
      ],
      "source": [
        "# write your answer here\n",
        "\n",
        "len('Karthik Puppala')"
      ]
    },
    {
      "cell_type": "markdown",
      "metadata": {
        "id": "jJDe71iLB616"
      },
      "source": [
        "(2) Write a Python program to count the number of characters in a string. (4 points)\n",
        "\n",
        "Sample String : 'google.com‘, \n",
        "\n",
        "Expected Result : {'o': 3, 'g': 2, '.': 1, 'e': 1, 'l': 1, 'm': 1, 'c': 1}"
      ]
    },
    {
      "cell_type": "code",
      "execution_count": 2,
      "metadata": {
        "id": "MtKskTzbCLaU",
        "colab": {
          "base_uri": "https://localhost:8080/"
        },
        "outputId": "c99575eb-322c-49a3-bdea-d3334359907a"
      },
      "outputs": [
        {
          "output_type": "execute_result",
          "data": {
            "text/plain": [
              "{'o': 3, 'g': 2, 'l': 1, 'e': 1, '.': 1, 'c': 1, 'm': 1}"
            ]
          },
          "metadata": {},
          "execution_count": 2
        }
      ],
      "source": [
        "# write your answer here\n",
        "\n",
        "str = 'google.com'\n",
        "\n",
        "dic = {}\n",
        "\n",
        "for ele in str:\n",
        "  if ele not in dic.keys():\n",
        "    dic[ele] = str.count(ele)\n",
        "\n",
        "dict(sorted(dic.items(), key=lambda x: x[1], reverse=True))\n"
      ]
    },
    {
      "cell_type": "markdown",
      "metadata": {
        "id": "55W9AMdXCSpV"
      },
      "source": [
        "(3) Write a Python program to sum all the items in a list. (4 points)"
      ]
    },
    {
      "cell_type": "code",
      "execution_count": 3,
      "metadata": {
        "colab": {
          "base_uri": "https://localhost:8080/"
        },
        "id": "I57NXsauCec2",
        "outputId": "efcf918c-ed68-460a-95bb-eab2cfdd0b7d"
      },
      "outputs": [
        {
          "output_type": "execute_result",
          "data": {
            "text/plain": [
              "15"
            ]
          },
          "metadata": {},
          "execution_count": 3
        }
      ],
      "source": [
        "# write your answer here\n",
        "\n",
        "mylist = [1, 2, 3, 4, 5]\n",
        "sum(mylist)"
      ]
    },
    {
      "cell_type": "markdown",
      "metadata": {
        "id": "4ulBZ6yhCi9F"
      },
      "source": [
        "(4) Write a Python program to get a string from a given string where all occurrences of its first char have been changed to '\\$', except the first char itself. (4 points)\n",
        "\n",
        "Sample String : 'restart‘, \n",
        "\n",
        "Expected Result : 'resta\\$t'"
      ]
    },
    {
      "cell_type": "code",
      "execution_count": 4,
      "metadata": {
        "colab": {
          "base_uri": "https://localhost:8080/",
          "height": 35
        },
        "id": "Fj0XhwbBCw2o",
        "outputId": "86ec3e88-2d1e-4d5b-c7ab-636a86876804"
      },
      "outputs": [
        {
          "output_type": "execute_result",
          "data": {
            "text/plain": [
              "'resta$t'"
            ],
            "application/vnd.google.colaboratory.intrinsic+json": {
              "type": "string"
            }
          },
          "metadata": {},
          "execution_count": 4
        }
      ],
      "source": [
        "# write your answer here\n",
        "str = 'restart'\n",
        "\n",
        "str[0] + str[1:].replace(str[0], '$')"
      ]
    },
    {
      "cell_type": "markdown",
      "metadata": {
        "id": "_bIP7s1MCzue"
      },
      "source": [
        "(5) Write a program with python which could accept two parameter a and b to calculate and output the result of S, where \n",
        "\n",
        "$\\ S=3.14*(1+a/b)^3$ (4 points)\n",
        "\n"
      ]
    },
    {
      "cell_type": "code",
      "execution_count": 5,
      "metadata": {
        "colab": {
          "base_uri": "https://localhost:8080/"
        },
        "id": "w79QilHXD3Mg",
        "outputId": "2964e866-048b-4355-a953-21591be77d0d"
      },
      "outputs": [
        {
          "output_type": "stream",
          "name": "stdout",
          "text": [
            "14.537037037037033\n"
          ]
        }
      ],
      "source": [
        "# write your answer here\n",
        "\n",
        "a = 2\n",
        "b = 3\n",
        "\n",
        "S = 3.14 * pow((1 + (a/b)), 3)\n",
        "print(S)"
      ]
    },
    {
      "cell_type": "markdown",
      "metadata": {
        "id": "xCa2bK9aD4Q3"
      },
      "source": [
        "(6) Write a Python program to concatenate following dictionaries to create a new one. (4 points)\n",
        "\n",
        "Sample Dictionary : dic1={1:10, 2:20}, dic2={3:30, 4:40}, dic3={5:50,6:60}, \n",
        "\n",
        "Expected Result : {1: 10, 2: 20, 3: 30, 4: 40, 5: 50, 6: 60}\n"
      ]
    },
    {
      "cell_type": "code",
      "execution_count": 6,
      "metadata": {
        "colab": {
          "base_uri": "https://localhost:8080/"
        },
        "id": "_z4aLqAbEET1",
        "outputId": "685699f7-6bb8-4beb-c186-2ae3128e2c29"
      },
      "outputs": [
        {
          "output_type": "execute_result",
          "data": {
            "text/plain": [
              "{1: 10, 2: 20, 3: 30, 4: 40, 5: 50, 6: 60}"
            ]
          },
          "metadata": {},
          "execution_count": 6
        }
      ],
      "source": [
        "# write your answer here\n",
        "\n",
        "dic1={1:10, 2:20}\n",
        "dic2={3:30, 4:40}\n",
        "dic3={5:50,6:60}\n",
        "\n",
        "dic2.update(dic3)\n",
        "dic1.update(dic2)\n",
        "\n",
        "dic1\n"
      ]
    },
    {
      "cell_type": "markdown",
      "metadata": {
        "id": "0v48Vqa7FrQh"
      },
      "source": [
        "(7) Write a Python program to check whether an element exists within a tuple. (4 points)"
      ]
    },
    {
      "cell_type": "code",
      "execution_count": 7,
      "metadata": {
        "id": "7WEmgq-DF2P1",
        "colab": {
          "base_uri": "https://localhost:8080/"
        },
        "outputId": "9a213fd2-f69d-488f-8d74-10cfb9b48937"
      },
      "outputs": [
        {
          "output_type": "stream",
          "name": "stdout",
          "text": [
            "True\n",
            "False\n"
          ]
        }
      ],
      "source": [
        "# write your answer here\n",
        "\n",
        "myTuple = ('Hi', 'Hello', 'Hey')\n",
        "\n",
        "print('Hi' in myTuple) # True\n",
        "print('Whola!' in myTuple) # False"
      ]
    },
    {
      "cell_type": "markdown",
      "metadata": {
        "id": "vD5PYLMuGga_"
      },
      "source": [
        "(8) Write a Python program to find maximum and the minimum value in a set. (4 points)"
      ]
    },
    {
      "cell_type": "code",
      "execution_count": 8,
      "metadata": {
        "id": "t0D5kdJUGjjw",
        "colab": {
          "base_uri": "https://localhost:8080/"
        },
        "outputId": "9ac842c0-0577-40e7-90a0-a352d441e5ab"
      },
      "outputs": [
        {
          "output_type": "stream",
          "name": "stdout",
          "text": [
            "Minimum value in a set: -55\n",
            "Maximum value in a set: 1267\n"
          ]
        }
      ],
      "source": [
        "# write your answer here\n",
        "\n",
        "mySet = {234, 12, 873, 1267, 987, -55, -2}\n",
        "\n",
        "print(f\"Minimum value in a set: {min(mySet)}\")\n",
        "print(f\"Maximum value in a set: {max(mySet)}\")"
      ]
    },
    {
      "cell_type": "markdown",
      "metadata": {
        "id": "uHkd-y5VhVWC"
      },
      "source": [
        "(9) Write a Python program to randomly divide the students in this class into six groups for term projects, each group should have at least 4 students but no more than 6 students (including 6). Here is the students list: (4 points)\n",
        "\n",
        "studnet_list = ['ja0964','sa1198','sb1357','vb0218','sc1229','kg0569','kg0470','sg1297','bg0320','fh0141','jl1252','sk1386',\n",
        "           'ak0956','sk1390','sk1458','sk1313','ak0934','vm0377','nm0618','sm1640','sm1907','gn0108','pr0353','dr0609','ms1500','aos0040','ds0814', 'av0659','nv0234','hy0232']"
      ]
    },
    {
      "cell_type": "code",
      "execution_count": 9,
      "metadata": {
        "id": "3iGbmcOBhTwy",
        "colab": {
          "base_uri": "https://localhost:8080/"
        },
        "outputId": "5f6082d5-1953-4c4a-c425-8f696868d372"
      },
      "outputs": [
        {
          "output_type": "stream",
          "name": "stdout",
          "text": [
            "['sg1297', 'bg0320', 'nm0618', 'aos0040', 'ja0964']\n",
            "['sk1390', 'sk1458', 'sc1229', 'ak0934']\n",
            "['vb0218', 'fh0141', 'ms1500', 'av0659', 'kg0470']\n",
            "['pr0353', 'nv0234', 'kg0569', 'dr0609', 'sa1198', 'ds0814']\n",
            "['sk1313', 'sm1907', 'gn0108', 'sb1357', 'vm0377', 'jl1252']\n",
            "['ak0956', 'sm1640', 'hy0232', 'sk1386']\n"
          ]
        }
      ],
      "source": [
        "# write your answer here\n",
        "\n",
        "import random\n",
        "\n",
        "student_list = ['ja0964','sa1198','sb1357','vb0218','sc1229','kg0569','kg0470','sg1297','bg0320','fh0141','jl1252','sk1386', \n",
        "                'ak0956','sk1390','sk1458','sk1313','ak0934','vm0377','nm0618','sm1640','sm1907','gn0108','pr0353','dr0609','ms1500',\n",
        "                'aos0040','ds0814', 'av0659','nv0234','hy0232']\n",
        "\n",
        "\n",
        "\n",
        "def create_6_gropus(student_list):\n",
        "\n",
        "  # Generating 6 teams size list\n",
        "  while(1):\n",
        "    team_size = [random.randint(4,6) for i in range(5)] # Generating size of first 5 teams randomly\n",
        "    if (len(student_list) - sum(team_size)) in [4, 5, 6]: # Generating last team size based on first 5 teams\n",
        "      team_size.append(len(student_list) - sum(team_size))\n",
        "      break\n",
        "    else:\n",
        "      team_size = [] # making list as empty to create a size of teams as per given condition\n",
        "\n",
        "\n",
        "  # Generating 6 teams randomly\n",
        "  for size in team_size:  \n",
        "    team = random.sample(student_list, size)\n",
        "    for teamMember in team:\n",
        "      student_list.remove(teamMember)\n",
        "    print(team)\n",
        "\n",
        "\n",
        "create_6_gropus(student_list)"
      ]
    },
    {
      "cell_type": "markdown",
      "metadata": {
        "id": "I-awNMqVaz8X"
      },
      "source": [
        "(10) Write a Python program to find the duplicate elements in a given array of integers. Return -1 If there are no such elements. (4 points)"
      ]
    },
    {
      "cell_type": "code",
      "execution_count": 10,
      "metadata": {
        "id": "RXoacQblaz8X",
        "colab": {
          "base_uri": "https://localhost:8080/"
        },
        "outputId": "41bf400a-0dec-4a64-f96f-2cdf07d1d6e6"
      },
      "outputs": [
        {
          "output_type": "stream",
          "name": "stdout",
          "text": [
            "[2, 3, 6]\n"
          ]
        }
      ],
      "source": [
        "# write your answer here\n",
        "\n",
        "arr = [2, 3, 6, 6, 6, 3, 9, 8, 5, 87, 90, 2]\n",
        "\n",
        "duplicateArray = [] # Creating a list to store duplicate elements\n",
        "\n",
        "for i in range(len(arr)): \n",
        "  if (arr[i] in arr[i+1:]) and (arr[i] not in duplicateArray):\n",
        "    duplicateArray.append(arr[i])\n",
        "\n",
        "if not duplicateArray:\n",
        "  print(\"-1\")\n",
        "else:\n",
        "  print(duplicateArray)\n",
        "  \n",
        "\n"
      ]
    },
    {
      "cell_type": "markdown",
      "metadata": {
        "id": "CUVw441yaz8X"
      },
      "source": [
        "(11) Write a Python program to select all the Sundays of a specified year. (4 extra points)"
      ]
    },
    {
      "cell_type": "code",
      "execution_count": 11,
      "metadata": {
        "id": "bqW81-Nwaz8X",
        "colab": {
          "base_uri": "https://localhost:8080/"
        },
        "outputId": "9b1f29f3-b677-47e9-e5f2-e5c292f88d01"
      },
      "outputs": [
        {
          "output_type": "stream",
          "name": "stdout",
          "text": [
            "2023-01-01\n",
            "2023-01-08\n",
            "2023-01-15\n",
            "2023-01-22\n",
            "2023-01-29\n",
            "2023-02-05\n",
            "2023-02-12\n",
            "2023-02-19\n",
            "2023-02-26\n",
            "2023-03-05\n",
            "2023-03-12\n",
            "2023-03-19\n",
            "2023-03-26\n",
            "2023-04-02\n",
            "2023-04-09\n",
            "2023-04-16\n",
            "2023-04-23\n",
            "2023-04-30\n",
            "2023-05-07\n",
            "2023-05-14\n",
            "2023-05-21\n",
            "2023-05-28\n",
            "2023-06-04\n",
            "2023-06-11\n",
            "2023-06-18\n",
            "2023-06-25\n",
            "2023-07-02\n",
            "2023-07-09\n",
            "2023-07-16\n",
            "2023-07-23\n",
            "2023-07-30\n",
            "2023-08-06\n",
            "2023-08-13\n",
            "2023-08-20\n",
            "2023-08-27\n",
            "2023-09-03\n",
            "2023-09-10\n",
            "2023-09-17\n",
            "2023-09-24\n",
            "2023-10-01\n",
            "2023-10-08\n",
            "2023-10-15\n",
            "2023-10-22\n",
            "2023-10-29\n",
            "2023-11-05\n",
            "2023-11-12\n",
            "2023-11-19\n",
            "2023-11-26\n",
            "2023-12-03\n",
            "2023-12-10\n",
            "2023-12-17\n",
            "2023-12-24\n",
            "2023-12-31\n"
          ]
        }
      ],
      "source": [
        "# write your answer here\n",
        "\n",
        "from datetime import date, timedelta\n",
        "\n",
        "def find_sundays(year):\n",
        "       dt = date(year, 1, 1) # january 1st date\n",
        "     \n",
        "       dt = dt + timedelta(days = 6 - dt.weekday())  # First sunday of year\n",
        "       while dt.year == year:\n",
        "          yield dt\n",
        "          dt += timedelta(days = 7)\n",
        "          \n",
        "for s in find_sundays(2023):\n",
        "   print(s)\n",
        "   "
      ]
    },
    {
      "cell_type": "code",
      "source": [],
      "metadata": {
        "id": "rS0nDvD2vTp5"
      },
      "execution_count": 11,
      "outputs": []
    }
  ],
  "metadata": {
    "colab": {
      "provenance": [],
      "include_colab_link": true
    },
    "kernelspec": {
      "display_name": "Python 3 (ipykernel)",
      "language": "python",
      "name": "python3"
    },
    "language_info": {
      "codemirror_mode": {
        "name": "ipython",
        "version": 3
      },
      "file_extension": ".py",
      "mimetype": "text/x-python",
      "name": "python",
      "nbconvert_exporter": "python",
      "pygments_lexer": "ipython3",
      "version": "3.9.12"
    }
  },
  "nbformat": 4,
  "nbformat_minor": 0
}